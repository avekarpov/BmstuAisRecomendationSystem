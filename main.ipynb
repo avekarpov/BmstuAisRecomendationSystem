{
 "cells": [
  {
   "cell_type": "code",
   "execution_count": null,
   "metadata": {
    "vscode": {
     "languageId": "shellscript"
    }
   },
   "outputs": [],
   "source": [
    "pip install -qr requirements.txt"
   ]
  },
  {
   "cell_type": "code",
   "execution_count": null,
   "metadata": {},
   "outputs": [],
   "source": [
    "import pandas as pd\n",
    "import matplotlib.pyplot as plt\n",
    "import json\n",
    "from copy import deepcopy as copy"
   ]
  },
  {
   "cell_type": "code",
   "execution_count": null,
   "metadata": {},
   "outputs": [],
   "source": [
    "df = pd.read_csv('data/expert_opinions.csv')\n",
    "\n",
    "experts_count = len(df)\n",
    "experts_answers = {}\n",
    "types = [int(i) for i in df.keys()]\n",
    "options = set()\n",
    "for i in range(experts_count):\n",
    "    experts_answers.update({i: []})\n",
    "    for k in df:\n",
    "        answer = df[k][i]\n",
    "        experts_answers[i].append(answer)\n",
    "\n",
    "        options.add(answer)\n",
    "\n",
    "print(f'Множество значений: {types}')\n",
    "print(f'Термы: {options}')"
   ]
  },
  {
   "cell_type": "code",
   "execution_count": null,
   "metadata": {},
   "outputs": [],
   "source": [
    "for i in types:\n",
    "    print(f'{i:<3} ', end='')\n",
    "print()\n",
    "print('----' * len(types))\n",
    "for k in experts_answers:\n",
    "    for i in options:\n",
    "        for j in experts_answers[k]:\n",
    "            if i == j:\n",
    "                print('+   ', end='')\n",
    "            else:\n",
    "                print('    ', end='')\n",
    "        print(i)\n",
    "    print('----' * len(types))"
   ]
  },
  {
   "cell_type": "code",
   "execution_count": null,
   "metadata": {},
   "outputs": [],
   "source": [
    "membership_table = {j: [0 for i in range(len(types))] for j in options}\n",
    "for k in experts_answers:\n",
    "    for i in range(len(experts_answers[k])):\n",
    "        answer = experts_answers[k][i]\n",
    "        membership_table[answer][i] += 1\n",
    "\n",
    "for i in types:\n",
    "    print(f'{i:<5} ', end='')\n",
    "print()\n",
    "print('------' * len(types))\n",
    "for k in membership_table:\n",
    "    for i in membership_table[k]:\n",
    "        print(f'{i:<5} ', end='')\n",
    "    print()\n",
    "    for i in membership_table[k]:\n",
    "        print(f'{i / experts_count:<5} ', end='')\n",
    "    print(k)\n",
    "    print('------' * len(types))\n",
    "\n",
    "for k in membership_table:\n",
    "    plt.plot(\n",
    "        types,\n",
    "        [i / experts_count for i in membership_table[k]],\n",
    "        label=k\n",
    "    )\n",
    "plt.legend()\n",
    "plt.show()\n"
   ]
  },
  {
   "cell_type": "code",
   "execution_count": null,
   "metadata": {},
   "outputs": [],
   "source": [
    "category_tree = json.load(open('data/category_tree.json'))\n",
    "\n",
    "def print_category_tree(Node=category_tree, prefix=''):\n",
    "    level_size = len(Node)\n",
    "    for category in Node:\n",
    "        level_size -= 1\n",
    "\n",
    "        if level_size == 0:\n",
    "            angle = '└──'\n",
    "            new_prefix = f'{prefix}   '\n",
    "        else:\n",
    "            angle = '├──'\n",
    "            new_prefix = f'{prefix}│  '\n",
    "        \n",
    "        print(f'{prefix}{angle}{category}')\n",
    "        print_category_tree(Node[category], new_prefix)\n",
    "\n",
    "\n",
    "print_category_tree()"
   ]
  },
  {
   "cell_type": "code",
   "execution_count": null,
   "metadata": {},
   "outputs": [],
   "source": [
    "def find_categories_proximity(lhs, rhs):\n",
    "    def find_category(category, Node=category_tree):\n",
    "        assert Node is not None\n",
    "\n",
    "        for i in Node:\n",
    "            if category == i:\n",
    "                return [category]\n",
    "            else:\n",
    "                in_sub_tree = find_category(category, Node[i])\n",
    "                if in_sub_tree is not None:\n",
    "                    return [i] + in_sub_tree\n",
    "            \n",
    "        return None\n",
    "    \n",
    "    lhs = find_category(lhs)\n",
    "    rhs = find_category(rhs)\n",
    "\n",
    "    for i in range(len(min(lhs, rhs))):\n",
    "        if lhs[i] != rhs[i]:\n",
    "            return 1 / (len(lhs) - i + len(rhs) - i + 1)\n",
    "        \n",
    "    return 1\n",
    "\n",
    "def find_cals_proximity(lhs, rhs):\n",
    "    return min(lhs, rhs) / max(lhs, rhs)\n",
    "\n",
    "def find_fat_proximity(lhs, rhs):\n",
    "    return min(lhs, rhs) / max(lhs, rhs)\n",
    "\n",
    "def find_is_vegan_proximity(lhs, rhs):\n",
    "    return int(lhs == rhs)\n",
    "\n",
    "def find_raw_proximity(lhs, rhs):\n",
    "    method = 'Без обработки'\n",
    "    return int((rhs == method) == (lhs == method))\n",
    "\n",
    "def clac_proximity(df, func):\n",
    "    matrix = []\n",
    "    for i in df:\n",
    "        matrix.append([])\n",
    "        for j in df:\n",
    "            matrix[-1].append(func(i, j))\n",
    "\n",
    "    return matrix\n",
    "\n",
    "def merge_matrix(lhs, rhs, *other):\n",
    "    for i in range(len(lhs)):\n",
    "        for j in range(len(lhs[i])):\n",
    "            lhs[i][j] += rhs[i][j]\n",
    "    \n",
    "    if len(other) != 0:\n",
    "        merge_matrix(lhs, *other)\n",
    "\n",
    "    return lhs\n",
    "\n",
    "def down_matrix(matrix, coef=0.5):\n",
    "    matrix = copy(matrix)\n",
    "\n",
    "    for i in range(len(matrix)):\n",
    "        for j in range(len(matrix[i])):\n",
    "            matrix[i][j] = matrix[i][j] * coef\n",
    "\n",
    "    return matrix"
   ]
  },
  {
   "cell_type": "code",
   "execution_count": null,
   "metadata": {},
   "outputs": [],
   "source": [
    "df = pd.read_csv('data/dishes.csv')"
   ]
  },
  {
   "cell_type": "code",
   "execution_count": null,
   "metadata": {},
   "outputs": [],
   "source": [
    "matrix = merge_matrix(\n",
    "    down_matrix(clac_proximity(df['Приготовления'], find_raw_proximity)),\n",
    "    down_matrix(clac_proximity(df['Вегетарианское'], find_is_vegan_proximity)),\n",
    ")\n",
    "\n",
    "plt.matshow(matrix, cmap='hot', interpolation='nearest')\n",
    "plt.colorbar()\n",
    "plt.show()"
   ]
  },
  {
   "cell_type": "code",
   "execution_count": null,
   "metadata": {},
   "outputs": [],
   "source": [
    "matrix = merge_matrix(\n",
    "    down_matrix(clac_proximity(df['Приготовления'], find_raw_proximity), coef=0.1),\n",
    "    down_matrix(clac_proximity(df['Вегетарианское'], find_is_vegan_proximity), coef=0.1),\n",
    "    down_matrix(clac_proximity(df['Категория'], find_categories_proximity), coef=0.4),\n",
    "    down_matrix(clac_proximity(df['Жирность'], find_fat_proximity), coef=0.2),\n",
    "    down_matrix(clac_proximity(df['Калорийность'], find_cals_proximity), coef=0.2),\n",
    ")\n",
    "\n",
    "plt.matshow(matrix, cmap='hot', interpolation='nearest')\n",
    "plt.colorbar()\n",
    "plt.show()"
   ]
  },
  {
   "cell_type": "code",
   "execution_count": null,
   "metadata": {},
   "outputs": [],
   "source": [
    "matrix = clac_proximity(df['Категория'], find_categories_proximity)\n",
    "\n",
    "plt.matshow(matrix, cmap='hot', interpolation='nearest')\n",
    "plt.colorbar()\n",
    "plt.show()"
   ]
  }
 ],
 "metadata": {
  "kernelspec": {
   "display_name": "venv",
   "language": "python",
   "name": "python3"
  },
  "language_info": {
   "codemirror_mode": {
    "name": "ipython",
    "version": 3
   },
   "file_extension": ".py",
   "mimetype": "text/x-python",
   "name": "python",
   "nbconvert_exporter": "python",
   "pygments_lexer": "ipython3",
   "version": "3.9.6"
  }
 },
 "nbformat": 4,
 "nbformat_minor": 2
}
